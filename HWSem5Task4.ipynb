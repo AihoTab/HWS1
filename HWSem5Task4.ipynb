{
  "nbformat": 4,
  "nbformat_minor": 0,
  "metadata": {
    "colab": {
      "provenance": [],
      "authorship_tag": "ABX9TyNmZwIm/zEnkPmuplSwHxpu",
      "include_colab_link": true
    },
    "kernelspec": {
      "name": "python3",
      "display_name": "Python 3"
    },
    "language_info": {
      "name": "python"
    }
  },
  "cells": [
    {
      "cell_type": "markdown",
      "metadata": {
        "id": "view-in-github",
        "colab_type": "text"
      },
      "source": [
        "<a href=\"https://colab.research.google.com/github/AihoTab/HWS1/blob/main/HWSem5Task4.ipynb\" target=\"_parent\"><img src=\"https://colab.research.google.com/assets/colab-badge.svg\" alt=\"Open In Colab\"/></a>"
      ]
    },
    {
      "cell_type": "markdown",
      "source": [
        "# Задача 4.\n",
        "Есть ли статистически значимые различия в росте дочерей?\n",
        "\n"
      ],
      "metadata": {
        "id": "GgqM8NURhwn3"
      }
    },
    {
      "cell_type": "markdown",
      "source": [
        "Гипотеза H0, что статистически значимых различий нет.\n",
        "Гипотеза H2, что статистически значимые различия есть."
      ],
      "metadata": {
        "id": "Z2weILsmiOuf"
      }
    },
    {
      "cell_type": "code",
      "execution_count": 106,
      "metadata": {
        "id": "yxXbANhgePh-"
      },
      "outputs": [],
      "source": [
        "import numpy as np\n",
        "from scipy import stats\n"
      ]
    },
    {
      "cell_type": "code",
      "source": [
        "mothers = np.array([172, 177, 158, 170, 178,175, 164, 160, 169, 165])\n",
        "daughters = np.array([173, 175, 162, 174, 175, 168, 155, 170, 160])"
      ],
      "metadata": {
        "id": "K1hcCCDylpMq"
      },
      "execution_count": 107,
      "outputs": []
    },
    {
      "cell_type": "code",
      "source": [
        "x = np.mean(mothers)\n",
        "x"
      ],
      "metadata": {
        "colab": {
          "base_uri": "https://localhost:8080/"
        },
        "id": "FNZ-15nSfcCm",
        "outputId": "3786b400-5eb1-4572-e2a2-5e8188096152"
      },
      "execution_count": 108,
      "outputs": [
        {
          "output_type": "execute_result",
          "data": {
            "text/plain": [
              "168.8"
            ]
          },
          "metadata": {},
          "execution_count": 108
        }
      ]
    },
    {
      "cell_type": "code",
      "source": [
        "y = np.mean(daughters)\n",
        "y"
      ],
      "metadata": {
        "colab": {
          "base_uri": "https://localhost:8080/"
        },
        "id": "rxmeYhjOfsd-",
        "outputId": "ea11fa9b-d760-4b3f-d4f1-198ccf9198d7"
      },
      "execution_count": 109,
      "outputs": [
        {
          "output_type": "execute_result",
          "data": {
            "text/plain": [
              "168.0"
            ]
          },
          "metadata": {},
          "execution_count": 109
        }
      ]
    },
    {
      "cell_type": "code",
      "source": [
        "sigmi_m = np.std(mothers, ddof = 1)\n",
        "sigmi_m"
      ],
      "metadata": {
        "colab": {
          "base_uri": "https://localhost:8080/"
        },
        "id": "LZ56IQQ-f-eW",
        "outputId": "98214c91-9f02-43f0-b7a7-31a9e21230f6"
      },
      "execution_count": 110,
      "outputs": [
        {
          "output_type": "execute_result",
          "data": {
            "text/plain": [
              "6.941021378570864"
            ]
          },
          "metadata": {},
          "execution_count": 110
        }
      ]
    },
    {
      "cell_type": "code",
      "source": [
        "sigmi_d = np.std(daughters, ddof = 1)\n",
        "sigmi_d"
      ],
      "metadata": {
        "colab": {
          "base_uri": "https://localhost:8080/"
        },
        "id": "n5oyhwM_g9W9",
        "outputId": "14142bb0-76a1-4853-db70-445dc08b291d"
      },
      "execution_count": 111,
      "outputs": [
        {
          "output_type": "execute_result",
          "data": {
            "text/plain": [
              "7.3484692283495345"
            ]
          },
          "metadata": {},
          "execution_count": 111
        }
      ]
    },
    {
      "cell_type": "code",
      "source": [
        "t = (x - y)/(np.sqrt((sigmi_m**2/len(mothers)) + (sigmi_d**2/len(daughters))))\n",
        "t"
      ],
      "metadata": {
        "colab": {
          "base_uri": "https://localhost:8080/"
        },
        "id": "E0KmWLJnpzZ7",
        "outputId": "29ec5325-677c-4e99-8732-978144d3df51"
      },
      "execution_count": 166,
      "outputs": [
        {
          "output_type": "execute_result",
          "data": {
            "text/plain": [
              "0.24323213903456076"
            ]
          },
          "metadata": {},
          "execution_count": 166
        }
      ]
    },
    {
      "cell_type": "code",
      "source": [
        "stats.ttest_ind(mothers,daughters)"
      ],
      "metadata": {
        "colab": {
          "base_uri": "https://localhost:8080/"
        },
        "id": "1kO5-jxYl-HQ",
        "outputId": "66ff54b9-7a7f-4863-c840-99cd814a7332"
      },
      "execution_count": 151,
      "outputs": [
        {
          "output_type": "execute_result",
          "data": {
            "text/plain": [
              "Ttest_indResult(statistic=0.24400587215969016, pvalue=0.8101467126543231)"
            ]
          },
          "metadata": {},
          "execution_count": 151
        }
      ]
    },
    {
      "cell_type": "markdown",
      "source": [
        "Значение из таблицы на уровне значимости a = 0.05:\n",
        "1.   для матерей = 2,228\n",
        "2.   для дочерей = 2,262\n",
        "\n"
      ],
      "metadata": {
        "id": "rE9RqsuooX6N"
      }
    },
    {
      "cell_type": "markdown",
      "source": [
        "Расчетное значение меньше значения в таблице на уровне значимости a = 0.05:\n",
        "Принимаем основную гипотезу. "
      ],
      "metadata": {
        "id": "H-8VvKv_pPUj"
      }
    },
    {
      "cell_type": "markdown",
      "source": [
        "*Я запуталась*"
      ],
      "metadata": {
        "id": "5FBfGJ4NuGS_"
      }
    },
    {
      "cell_type": "markdown",
      "source": [
        "# Задача 3.\n",
        "Проведите тест гипотезы. Продавец утверждает, что средний вес пачки печенья составляет 200 г.\n",
        "Из партии извлечена выборка из 10 пачек. Вес каждой пачки составляет:\n",
        "\n",
        "202, 203, 199, 197, 195, 201, 200, 204, 194, 190.\n",
        "\n",
        "Известно, что их веса распределены нормально."
      ],
      "metadata": {
        "id": "z-nLIce126Yo"
      }
    },
    {
      "cell_type": "markdown",
      "source": [
        "Гипотеза H0: \n",
        "вес пачки равен 200г.\n",
        "Гипотеза H1: \n",
        "вес пачки не равен 200г.\n"
      ],
      "metadata": {
        "id": "ZDldPCbA4j9I"
      }
    },
    {
      "cell_type": "code",
      "source": [
        "cookies=np.array([202, 203, 199, 197, 195, 201, 200, 204, 194, 190])"
      ],
      "metadata": {
        "id": "7w3fbyvq2CgP"
      },
      "execution_count": 172,
      "outputs": []
    },
    {
      "cell_type": "markdown",
      "source": [
        "*Верно ли утверждение продавца, если учитывать, что доверительная вероятность равна 99%? (Провести двусторонний тест.)*\n"
      ],
      "metadata": {
        "id": "sARrN5J_AjBI"
      }
    },
    {
      "cell_type": "code",
      "source": [
        "a = 1 - 0.99\n",
        "a\n"
      ],
      "metadata": {
        "colab": {
          "base_uri": "https://localhost:8080/"
        },
        "id": "lKqZ58BGAq7Y",
        "outputId": "36d4f807-e7de-4815-8e39-1538b56c8b82"
      },
      "execution_count": 182,
      "outputs": [
        {
          "output_type": "execute_result",
          "data": {
            "text/plain": [
              "0.010000000000000009"
            ]
          },
          "metadata": {},
          "execution_count": 182
        }
      ]
    },
    {
      "cell_type": "code",
      "source": [
        "cookies_mean = np.mean(cookies)\n",
        "cookies_mean"
      ],
      "metadata": {
        "colab": {
          "base_uri": "https://localhost:8080/"
        },
        "id": "ajsuovYZ39UM",
        "outputId": "e36bc3aa-2a13-4200-f09f-6f39ab53bd98"
      },
      "execution_count": 174,
      "outputs": [
        {
          "output_type": "execute_result",
          "data": {
            "text/plain": [
              "198.5"
            ]
          },
          "metadata": {},
          "execution_count": 174
        }
      ]
    },
    {
      "cell_type": "code",
      "source": [
        "sigmi_cookies = np.std(cookies,ddof=1)\n",
        "sigmi_cookies"
      ],
      "metadata": {
        "colab": {
          "base_uri": "https://localhost:8080/"
        },
        "id": "5E6MLhFN4SSJ",
        "outputId": "0457b53c-97c5-4258-b723-1c5cfbe698b7"
      },
      "execution_count": 175,
      "outputs": [
        {
          "output_type": "execute_result",
          "data": {
            "text/plain": [
              "4.453463071962462"
            ]
          },
          "metadata": {},
          "execution_count": 175
        }
      ]
    },
    {
      "cell_type": "markdown",
      "source": [
        "Расчетное значение:"
      ],
      "metadata": {
        "id": "wUpnrQaPCDMj"
      }
    },
    {
      "cell_type": "code",
      "source": [
        "t_cookies = (cookies_mean-200)/(sigmi_cookies)/(np.sqrt(len(cookies)))\n",
        "t_cookies"
      ],
      "metadata": {
        "colab": {
          "base_uri": "https://localhost:8080/"
        },
        "id": "GnIN1R5k2O79",
        "outputId": "aedea793-a4c5-4280-ac23-9538a8d3058e"
      },
      "execution_count": 176,
      "outputs": [
        {
          "output_type": "execute_result",
          "data": {
            "text/plain": [
              "-0.10651074037450894"
            ]
          },
          "metadata": {},
          "execution_count": 176
        }
      ]
    },
    {
      "cell_type": "code",
      "source": [
        "at = 1 - 0.01/2\n",
        "at"
      ],
      "metadata": {
        "colab": {
          "base_uri": "https://localhost:8080/"
        },
        "id": "AH0ciq2nBix0",
        "outputId": "3a351c8c-591c-4df3-87ee-05c0ac73366f"
      },
      "execution_count": 177,
      "outputs": [
        {
          "output_type": "execute_result",
          "data": {
            "text/plain": [
              "0.995"
            ]
          },
          "metadata": {},
          "execution_count": 177
        }
      ]
    },
    {
      "cell_type": "markdown",
      "source": [
        "Табличное значение:"
      ],
      "metadata": {
        "id": "ZZAv9J2OB21T"
      }
    },
    {
      "cell_type": "code",
      "source": [
        "tt_cookies = stats.t.ppf(at,len(cookies))\n",
        "tt_cookies"
      ],
      "metadata": {
        "colab": {
          "base_uri": "https://localhost:8080/"
        },
        "id": "WmL0dBjg65Yf",
        "outputId": "9641391e-8acc-4b45-c549-d1330eb7e112"
      },
      "execution_count": 178,
      "outputs": [
        {
          "output_type": "execute_result",
          "data": {
            "text/plain": [
              "3.169272667175838"
            ]
          },
          "metadata": {},
          "execution_count": 178
        }
      ]
    },
    {
      "cell_type": "code",
      "source": [
        "if tt_cookies < np.abs(t_cookies):\n",
        "  print('Продавец обманывал. В среднем пачка не весит 200 грамм.')\n",
        "else: \n",
        "  print('Продавец был прав. Средний вес пачки печенья 200 грамм.')"
      ],
      "metadata": {
        "colab": {
          "base_uri": "https://localhost:8080/"
        },
        "id": "4ZyDaXad9k1b",
        "outputId": "7640f598-93bf-4d65-c818-ea37f07aed85"
      },
      "execution_count": 185,
      "outputs": [
        {
          "output_type": "stream",
          "name": "stdout",
          "text": [
            "Продавец был прав. Средний вес пачки печенья 200 грамм.\n"
          ]
        }
      ]
    },
    {
      "cell_type": "markdown",
      "source": [
        "Расчетное значение меньше значения в таблице на уровне значимости a = 0.01:\n",
        "Принимаем гипотезу H0"
      ],
      "metadata": {
        "id": "6V8WUlNk-whW"
      }
    },
    {
      "cell_type": "markdown",
      "source": [
        "*Кажется запуталась еще сильнее*"
      ],
      "metadata": {
        "id": "zy2DzJtVCfl4"
      }
    }
  ]
}